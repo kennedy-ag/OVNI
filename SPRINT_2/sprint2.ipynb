{
  "nbformat": 4,
  "nbformat_minor": 0,
  "metadata": {
    "colab": {
      "name": "coleta.ipynb",
      "provenance": []
    },
    "kernelspec": {
      "display_name": "Python 3",
      "name": "python3"
    }
  },
  "cells": [
    {
      "cell_type": "markdown",
      "metadata": {
        "id": "-41ehCz3r9rC"
      },
      "source": [
        "**PRIMEIRA SPRINT**"
      ]
    },
    {
      "cell_type": "code",
      "metadata": {
        "colab": {
          "background_save": true
        },
        "id": "18Z63eZLtt5i"
      },
      "source": [
        "# IMPORTACOES DE MODULOS E BIBLIOTECAS\r\n",
        "\r\n",
        "#pip install zipcodes\r\n",
        "from folium.plugins import HeatMap\r\n",
        "import folium\r\n",
        "import zipcodes\r\n",
        "from bs4 import BeautifulSoup\r\n",
        "from urllib.request import urlopen\r\n",
        "from urllib.error import HTTPError\r\n",
        "import csv\r\n",
        "import matplotlib\r\n",
        "import matplotlib.pyplot as plt\r\n",
        "import numpy as np\r\n",
        "import pandas as pd\r\n",
        "from collections import Counter"
      ],
      "execution_count": null,
      "outputs": []
    },
    {
      "cell_type": "code",
      "metadata": {
        "id": "35e0mZoVCi0s"
      },
      "source": [
        "# FUNCOES\r\n",
        "\r\n",
        "def getPage(url):\r\n",
        "  try:\r\n",
        "    resposta = urlopen(url)\r\n",
        "  except HTTPError as e:\r\n",
        "    return None\r\n",
        "  return resposta"
      ],
      "execution_count": null,
      "outputs": []
    },
    {
      "cell_type": "code",
      "metadata": {
        "id": "QwqF--LrPPp5"
      },
      "source": [
        "links= []\r\n",
        "counts=[]\r\n",
        "counttemp = []\r\n",
        "datas= []\r\n",
        "dicionario = {}\r\n",
        "link_base =\"http://www.nuforc.org/webreports/ndxevent.html\"\r\n",
        "link_suporte = \"http://www.nuforc.org/webreports/\"\r\n",
        "resposta_http = getPage(link_base)\r\n",
        "objeto_soup = BeautifulSoup(resposta_http.read(), features=\"html.parser\")\r\n",
        "\r\n",
        "#Pegando as DATAS, LINKS\r\n",
        "for link in objeto_soup.find_all('a')[1:]:\r\n",
        "  if link.get_text()=='12/1996':\r\n",
        "    break\r\n",
        "  elif int(link.get_text()[3:])>2017:\r\n",
        "    continue\r\n",
        "  datas.append((link.get_text()))\r\n",
        "  links.append((link.get('href')))\r\n",
        "\r\n",
        "datas = datas[4:-8]\r\n",
        "links = links[4:-8]\r\n",
        "\r\n",
        "#Pegando os COUNTS\r\n",
        "for link in objeto_soup.find_all('td'):\r\n",
        "  counttemp.append((link.get_text()))\r\n",
        "counttemp = {counttemp[i]: counttemp[i+1] for i in range(0, len(counttemp), 2)}\r\n",
        "    \r\n",
        "for i in counttemp:\r\n",
        "  if i=='12/1996':\r\n",
        "    break\r\n",
        "  elif(int(i[3:])>2017):\r\n",
        "    continue\r\n",
        "  counts.append(counttemp[i])\r\n",
        "counts = counts[4:-8]\r\n",
        "\r\n",
        "# Montando o dicionário inicial\r\n",
        "for i in range(0, len(datas)):\r\n",
        "  dicionario[datas[i]] = {  \r\n",
        "    \"count\":counts[i],\r\n",
        "    \"link\":links[i]\r\n",
        "  }"
      ],
      "execution_count": null,
      "outputs": []
    },
    {
      "cell_type": "code",
      "metadata": {
        "id": "4IxZVAOyQIfG"
      },
      "source": [
        "# dicionário que guarda as informações de todos os registros coletados no site\r\n",
        "ovnis = {}\r\n",
        "chave = 0\r\n",
        "\r\n",
        "# percorre todo o dicionário\r\n",
        "for i in dicionario:\r\n",
        "  # lista que armazena as linhas das tabelas de cada página/link acessado\r\n",
        "  linhas = []\r\n",
        "  # acessa a página correspondente ao link em questão\r\n",
        "  pagina = link_suporte+dicionario[i]['link']\r\n",
        "  resposta = getPage(pagina)\r\n",
        "  soup = BeautifulSoup(resposta.read(), features=\"html.parser\")\r\n",
        "  linhas_tabela = soup.find_all(\"tr\")\r\n",
        "  \r\n",
        "  for l in linhas_tabela:\r\n",
        "    linhas.append(l.get_text().strip().split('\\n'))\r\n",
        "\r\n",
        "  # Armazenando as informações no dicionário principal (pré-csv)\r\n",
        "  for linha in linhas[1:]:\r\n",
        "    ovnis[str(chave)] = {\r\n",
        "        'data_hora': linha[0],\r\n",
        "        'cidade': linha[1],\r\n",
        "        'estado': linha[2],\r\n",
        "        'formato': linha[3],\r\n",
        "        'duracao': linha[4],\r\n",
        "        'resumo': linha[5],\r\n",
        "        'data_postagem': linha[6]\r\n",
        "    }\r\n",
        "    chave += 1\r\n",
        "\r\n",
        "  print(\"Ovnis: \", len(ovnis))"
      ],
      "execution_count": null,
      "outputs": []
    },
    {
      "cell_type": "code",
      "metadata": {
        "id": "D-GAPiRXwvy_"
      },
      "source": [
        "# CELULA RESPONSAVEL POR CONVERTER O DICIONARIO PARA CSV\r\n",
        "\r\n",
        "csv_columns = ['ID', 'data_hora' , 'cidade', 'estado', 'formato', 'duracao', 'resumo', 'data_postagem']\r\n",
        "csvfile = 'OVNIS.csv'\r\n",
        "dict_data = [\r\n",
        "{'ID': i,\r\n",
        " 'data_hora': ovnis[i]['data_hora'],\r\n",
        " 'cidade': ovnis[i]['cidade'],\r\n",
        " 'estado': ovnis[i]['estado'],\r\n",
        " 'formato': ovnis[i]['formato'],\r\n",
        " 'duracao': ovnis[i]['duracao'],\r\n",
        " 'resumo': ovnis[i]['resumo'],\r\n",
        " 'data_postagem': ovnis[i]['data_postagem']} for i in ovnis\r\n",
        "]\r\n",
        "\r\n",
        "try:\r\n",
        "  with open(csvfile, 'w') as csvfile:\r\n",
        "    writer = csv.DictWriter(csvfile, fieldnames=csv_columns)\r\n",
        "    writer.writeheader()\r\n",
        "    for data in dict_data:\r\n",
        "      writer.writerow(data)\r\n",
        "except IOError:\r\n",
        "  print(\"I/O error\")"
      ],
      "execution_count": null,
      "outputs": []
    },
    {
      "cell_type": "markdown",
      "metadata": {
        "id": "zsXa5rp4r1ug"
      },
      "source": [
        "**SEGUNDA SPRINT: GRÁFICO**"
      ]
    },
    {
      "cell_type": "code",
      "metadata": {
        "id": "1VjHTbIduXmX"
      },
      "source": [
        "# Criando o dataframe\r\n",
        "data = pd.read_csv('OVNIS.csv')\r\n",
        "\r\n",
        "# Os 4 estados com maiores aparições \r\n",
        "x = data.estado.value_counts()\r\n",
        "x = dict(list(x.items())[0:4])\r\n",
        "\r\n",
        "# Coletando todos os registros de formatos de cada estado\r\n",
        "formatos = {}\r\n",
        "for i, row in data.iterrows():\r\n",
        "  if(row.estado in x):\r\n",
        "    if(row.estado not in formatos):\r\n",
        "      formatos[row.estado] = []\r\n",
        "    else:\r\n",
        "      formatos[row.estado].append(row.formato)"
      ],
      "execution_count": null,
      "outputs": []
    },
    {
      "cell_type": "code",
      "metadata": {
        "id": "qtTwB7I1ga1f",
        "colab": {
          "base_uri": "https://localhost:8080/"
        },
        "outputId": "c5fff12f-4b72-477b-a277-5ce02cf8abc5"
      },
      "source": [
        "# Montando a estrutura para plotagem\r\n",
        "dados = ([], [], [], [])\r\n",
        "index = 0\r\n",
        "\r\n",
        "for i in formatos.values():\r\n",
        "  c = Counter(i)\r\n",
        "  dados[index].append(c['Light'])\r\n",
        "  dados[index].append(c['Circle'])\r\n",
        "  dados[index].append(c['Fireball'])\r\n",
        "  dados[index].append(c['Triangle'])\r\n",
        "  index += 1\r\n",
        "\r\n",
        "print(dados)"
      ],
      "execution_count": null,
      "outputs": [
        {
          "output_type": "stream",
          "text": [
            "([1167, 602, 562, 397], [442, 290, 267, 154], [623, 463, 486, 225], [555, 252, 255, 173])\n"
          ],
          "name": "stdout"
        }
      ]
    },
    {
      "cell_type": "code",
      "metadata": {
        "id": "RZKrWc6Vkt2X"
      },
      "source": [
        "# Plotagem do gráfico\r\n",
        "\r\n",
        "dim = len(dados[0])\r\n",
        "w = 0.75\r\n",
        "dimw = w / dim\r\n",
        "\r\n",
        "fig, ax = plt.subplots()\r\n",
        "x = np.arange(len(dados))\r\n",
        "for i in range(len(dados[0])):\r\n",
        "    y = [d[i] for d in dados]\r\n",
        "    b = ax.bar(x + i * dimw, y, dimw, bottom=0.001)\r\n",
        "\r\n",
        "ax.set_xticks(x + dimw)\r\n",
        "ax.set_xticklabels([\"CA\", \"WA\", \"FL\", \"TX\"])\r\n",
        "\r\n",
        "ax.set_title('Gráfico dos estados com mais ocorrências')\r\n",
        "ax.set_xlabel('Estados')\r\n",
        "ax.set_ylabel('Número de ocorrências')\r\n",
        "\r\n",
        "plt.show()"
      ],
      "execution_count": null,
      "outputs": []
    },
    {
      "cell_type": "code",
      "metadata": {
        "colab": {
          "base_uri": "https://localhost:8080/",
          "height": 350
        },
        "id": "AeEz15IOrA3b",
        "outputId": "b72b9dc1-f65f-4413-d27a-be4935e1fb29"
      },
      "source": [
        "#gerando o grafico de barras\r\n",
        "Light  = np.array((1167, 442, 623, 555))\r\n",
        "Circle = np.array((602, 290, 463, 252))\r\n",
        "Fireball  = np.array((562, 267, 486, 183))\r\n",
        "Triangle  = np.array((397, 267, 225, 173))\r\n",
        "\r\n",
        "\r\n",
        "states = ['CA','WA','FL', 'TX']\r\n",
        "\r\n",
        "plt.figure(figsize=(7,5))\r\n",
        "\r\n",
        "plt.bar(states, Light, color = 'green')\r\n",
        "plt.bar(states, Circle, color = 'yellow')\r\n",
        "plt.bar(states, Fireball, color = 'blue')\r\n",
        "plt.bar(states, Triangle, color = 'red')\r\n",
        "\r\n",
        "plt.xlabel('estados')\r\n",
        "plt.ylabel('visualizações')\r\n",
        "plt.title('grafico de barras')\r\n",
        "plt.legend(('Light', 'Circle', 'Fireball', 'Triangle'))\r\n",
        "\r\n",
        "plt.show()"
      ],
      "execution_count": null,
      "outputs": [
        {
          "output_type": "display_data",
          "data": {
            "image/png": "[encoded data removed]",
            "text/plain": [
              "<Figure size 504x360 with 1 Axes>"
            ]
          },
          "metadata": {
            "tags": [],
            "needs_background": "light"
          }
        }
      ]
    },
    {
      "cell_type": "markdown",
      "metadata": {
        "id": "-zu64nhj0_ri"
      },
      "source": [
        "**SEGUNDA SPRINT: MAPAS**"
      ]
    },
    {
      "cell_type": "code",
      "metadata": {
        "id": "Ja-j2YNb0-af"
      },
      "source": [
        "# GERANDO CSV COM AS COORDENADAS DE CADA CIDADE\r\n",
        "\r\n",
        "csv_columns = ['ID', 'cidade', 'estado', 'lat', 'long']\r\n",
        "csvfile = 'coords.csv'\r\n",
        "coords = []\r\n",
        "\r\n",
        "for i in ovnis:\r\n",
        "  try:\r\n",
        "    lat = zipcodes.filter_by(city=ovnis[i]['cidade'], state=ovnis[i]['estado'])[0]['lat']\r\n",
        "    lng = zipcodes.filter_by(city=ovnis[i]['cidade'], state=ovnis[i]['estado'])[0]['long']\r\n",
        "  except IndexError:\r\n",
        "    lat = 32.7199\r\n",
        "    lng = -117.1805\r\n",
        "\r\n",
        "  coord = {\r\n",
        "    'ID': i,\r\n",
        "    'cidade': ovnis[i]['cidade'],\r\n",
        "    'estado': ovnis[i]['estado'],\r\n",
        "    'lat': lat,\r\n",
        "    'long': lng\r\n",
        "  }\r\n",
        "  coords.append(coord)\r\n",
        "  print('COORDS: ', len(coords))\r\n",
        "\r\n",
        "  if i == '1000':\r\n",
        "    break\r\n",
        "\r\n",
        "try:\r\n",
        "  with open(csvfile, 'w') as csvfile:\r\n",
        "    writer = csv.DictWriter(csvfile, fieldnames=csv_columns)\r\n",
        "    writer.writeheader()\r\n",
        "    for crd in coords:\r\n",
        "      writer.writerow(crd)\r\n",
        "except IOError:\r\n",
        "  print(\"I/O error\")"
      ],
      "execution_count": null,
      "outputs": []
    },
    {
      "cell_type": "code",
      "metadata": {
        "id": "-I_gIKcl7xVm"
      },
      "source": [
        "# Gera o mapa dos Estados Unidos com suas respectivas ocorrências (1997-2017)\r\n",
        "coords = pd.read_csv('coords.csv')\r\n",
        "\r\n",
        "lat = coords.lat.tolist()\r\n",
        "lng = coords['long'].tolist()\r\n",
        "\r\n",
        "m = folium.Map(location=[37.8427887, -98.3807258], tiles='cartodbdark_matter', zoom_start=4.25)\r\n",
        "HeatMap(list(zip(lat, lng)), overlay=False).add_to(m)\r\n",
        "m"
      ],
      "execution_count": null,
      "outputs": []
    },
    {
      "cell_type": "code",
      "metadata": {
        "id": "xQEbCd6WV27m"
      },
      "source": [
        "# Gera as coordenadas das cidades dos Estados Unidos e salva em csv\r\n",
        "csv_columns = ['ID', 'cidade', 'estado', 'lat', 'long']\r\n",
        "csvfile = 'coords_ca.csv'\r\n",
        "coords = []\r\n",
        "\r\n",
        "for i in ovnis:\r\n",
        "  try:\r\n",
        "    if ovnis[i]['estado'] == 'CA':\r\n",
        "      lat = zipcodes.filter_by(city=ovnis[i]['cidade'], state=ovnis[i]['estado'])[0]['lat']\r\n",
        "      lng = zipcodes.filter_by(city=ovnis[i]['cidade'], state=ovnis[i]['estado'])[0]['long']\r\n",
        "    else:\r\n",
        "      continue\r\n",
        "  except IndexError:\r\n",
        "    continue\r\n",
        "\r\n",
        "  coord = {\r\n",
        "    'ID': i,\r\n",
        "    'cidade': ovnis[i]['cidade'],\r\n",
        "    'estado': ovnis[i]['estado'],\r\n",
        "    'lat': lat,\r\n",
        "    'long': lng\r\n",
        "  }\r\n",
        "  coords.append(coord)\r\n",
        "\r\n",
        "coords = pd.DataFrame(coords)\r\n",
        "coords.to_csv('coords.csv')"
      ],
      "execution_count": 75,
      "outputs": []
    },
    {
      "cell_type": "code",
      "metadata": {
        "id": "iHjSFf4vcG_e"
      },
      "source": [
        "# Gera as coordenadas das cidades da Califórnia e salva em csv\r\n",
        "coords = pd.read_csv('coords.csv')\r\n",
        "coords_ca = []\r\n",
        "for i, row in coords.iterrows():\r\n",
        "  if row.estado == 'CA':\r\n",
        "    try:\r\n",
        "      lat = row.lat\r\n",
        "      lng = row['long']\r\n",
        "    except IndexError:\r\n",
        "      continue\r\n",
        "      \r\n",
        "    coords_ca.append({\r\n",
        "      'ID': i,\r\n",
        "      'cidade': row.cidade,\r\n",
        "      'estado': row.estado,\r\n",
        "      'lat': lat,\r\n",
        "      'long': lng\r\n",
        "    })\r\n",
        "  else:\r\n",
        "    continue\r\n",
        "\r\n",
        "coords_ca = pd.DataFrame(coords_ca)\r\n",
        "coords_ca.to_csv('coords_ca.csv')"
      ],
      "execution_count": 70,
      "outputs": []
    },
    {
      "cell_type": "code",
      "metadata": {
        "id": "QfjJWWuh0CQc"
      },
      "source": [
        "# Gera o mapa da Califórnia com suas respectivas ocorrências\r\n",
        "cca = pd.read_csv('coords_ca.csv')\r\n",
        "\r\n",
        "lati = cca.lat.tolist()\r\n",
        "longi = cca['long'].tolist()\r\n",
        "\r\n",
        "mapa = folium.Map(location=[37.2454668, -120.7021918], tiles='cartodbdark_matter', zoom_start=6)\r\n",
        "HeatMap(list(zip(lati, longi)), overlay=False).add_to(mapa)\r\n",
        "mapa"
      ],
      "execution_count": null,
      "outputs": []
    }
  ]
}